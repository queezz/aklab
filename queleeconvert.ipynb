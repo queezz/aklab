{
 "cells": [
  {
   "cell_type": "code",
   "execution_count": 31,
   "metadata": {},
   "outputs": [],
   "source": [
    "import os\n",
    "#from aklab.qulee import QMS\n",
    "%run \"aklab/qulee.py\""
   ]
  },
  {
   "cell_type": "markdown",
   "metadata": {},
   "source": [
    "# Batch Plot to PDF"
   ]
  },
  {
   "cell_type": "code",
   "execution_count": 38,
   "metadata": {},
   "outputs": [
    {
     "data": {
      "text/plain": [
       "'c:\\\\Users\\\\queez\\\\Dropbox\\\\Experiments\\\\2019-Ito-kun\\\\data\\\\Qms\\\\S1_191225_163604.CSV'"
      ]
     },
     "execution_count": 38,
     "metadata": {},
     "output_type": "execute_result"
    }
   ],
   "source": [
    "dir = \"c:\\\\Users\\\\queez\\\\Dropbox\\\\Experiments\\\\2019-Ito-kun\\\\data\\\\Qms\\\\\"\n",
    "fs = [i for i in os.listdir(dir) if i.endswith('CSV')]\n",
    "fns = sorted([os.path.join(dir,i) for i in fs],reverse=True)\n",
    "fn = os.path.join(dir,fs[0])\n",
    "fn"
   ]
  },
  {
   "cell_type": "code",
   "execution_count": 39,
   "metadata": {},
   "outputs": [],
   "source": [
    "plot_qms_dir(ls=fns[:10])"
   ]
  },
  {
   "cell_type": "markdown",
   "metadata": {},
   "source": [
    "# Convert"
   ]
  },
  {
   "cell_type": "code",
   "execution_count": null,
   "metadata": {},
   "outputs": [
    {
     "data": {
      "text/plain": [
       "'c:\\\\Users\\\\queez\\\\Dropbox\\\\Experiments\\\\2019-Ito-kun\\\\data\\\\Qms\\\\S1_191225_163604.qst'"
      ]
     },
     "metadata": {},
     "output_type": "display_data"
    }
   ],
   "source": [
    "dir = \"c:\\\\Users\\\\queez\\\\Dropbox\\\\Experiments\\\\2019-Ito-kun\\\\data\\\\Qms\\\\\"\n",
    "fs = [i for i in os.listdir(dir) if i.endswith('qst')]\n",
    "fns = [os.path.join(dir,i) for i in fs]\n",
    "fn = os.path.join(dir,fs[0])\n",
    "fn"
   ]
  },
  {
   "cell_type": "code",
   "execution_count": 16,
   "metadata": {},
   "outputs": [
    {
     "name": "stderr",
     "output_type": "stream",
     "text": [
      "Child returned\n"
     ]
    }
   ],
   "source": [
    "tocsv(fn)"
   ]
  }
 ],
 "metadata": {
  "interpreter": {
   "hash": "d395a881eae0f3c34298f2428d8cb468ec143c8f6fccfeb6ff76c40346ac66e0"
  },
  "kernelspec": {
   "display_name": "Python 3.9.7 ('base')",
   "language": "python",
   "name": "python3"
  },
  "language_info": {
   "codemirror_mode": {
    "name": "ipython",
    "version": 3
   },
   "file_extension": ".py",
   "mimetype": "text/x-python",
   "name": "python",
   "nbconvert_exporter": "python",
   "pygments_lexer": "ipython3",
   "version": "3.9.7"
  },
  "orig_nbformat": 4
 },
 "nbformat": 4,
 "nbformat_minor": 2
}
