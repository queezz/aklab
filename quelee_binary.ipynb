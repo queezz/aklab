{
 "cells": [
  {
   "cell_type": "code",
   "execution_count": 12,
   "metadata": {},
   "outputs": [],
   "source": [
    "import subprocess"
   ]
  },
  {
   "cell_type": "code",
   "execution_count": 39,
   "metadata": {},
   "outputs": [
    {
     "data": {
      "text/plain": [
       "b'./docs/aklab\\\\index.html\\r\\n./docs/aklab\\\\constants.html\\r\\n./docs/aklab\\\\mpls.html\\r\\n./docs/aklab\\\\qulee.html\\r\\n./docs/aklab\\\\readbinary.html\\r\\n'"
      ]
     },
     "execution_count": 39,
     "metadata": {},
     "output_type": "execute_result"
    }
   ],
   "source": [
    "\n"
   ]
  },
  {
   "cell_type": "code",
   "execution_count": 20,
   "metadata": {},
   "outputs": [],
   "source": [
    "#%run \"docs/make.py\""
   ]
  },
  {
   "cell_type": "code",
   "execution_count": 1,
   "metadata": {},
   "outputs": [],
   "source": [
    "#from aklab.qulee import QMS\n",
    "%run \"aklab/qulee.py\"\n",
    "%run \"aklab/readbinary.py\"\n"
   ]
  },
  {
   "cell_type": "markdown",
   "metadata": {},
   "source": [
    "# Try to read binary directly"
   ]
  },
  {
   "cell_type": "code",
   "execution_count": 2,
   "metadata": {},
   "outputs": [
    {
     "name": "stdout",
     "output_type": "stream",
     "text": [
      "\u0013ULVAC\n",
      "QulovreQCS\n",
      "'utf-8' codec can't decode byte 0xe8 in position 0: unexpected end of data\n",
      "'utf-8' codec can't decode byte 0xe8 in position 0: unexpected end of data\n",
      "'utf-8' codec can't decode byte 0xb8 in position 0: invalid start byte\n",
      "'utf-8' codec can't decode byte 0xb8 in position 0: invalid start byte\n",
      "'utf-8' codec can't decode byte 0xe8 in position 0: unexpected end of data\n",
      "'utf-8' codec can't decode byte 0xac in position 0: invalid start byte\n",
      "'utf-8' codec can't decode byte 0xc5 in position 0: unexpected end of data\n",
      "'utf-8' codec can't decode byte 0x95 in position 0: invalid start byte\n"
     ]
    }
   ],
   "source": [
    "fn = './data/S1_191227_164023.qst'\n",
    "\n",
    "with open(fn,'rb') as f:\n",
    "    for i in range(10):\n",
    "        try:\n",
    "            print(_read_until(f))\n",
    "        except UnicodeDecodeError as e:\n",
    "            print(f'{e}')   "
   ]
  }
 ],
 "metadata": {
  "interpreter": {
   "hash": "d395a881eae0f3c34298f2428d8cb468ec143c8f6fccfeb6ff76c40346ac66e0"
  },
  "kernelspec": {
   "display_name": "Python 3.9.7 ('base')",
   "language": "python",
   "name": "python3"
  },
  "language_info": {
   "codemirror_mode": {
    "name": "ipython",
    "version": 3
   },
   "file_extension": ".py",
   "mimetype": "text/x-python",
   "name": "python",
   "nbconvert_exporter": "python",
   "pygments_lexer": "ipython3",
   "version": "3.9.7"
  },
  "orig_nbformat": 4
 },
 "nbformat": 4,
 "nbformat_minor": 2
}
