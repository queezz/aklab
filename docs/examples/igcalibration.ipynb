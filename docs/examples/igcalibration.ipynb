{
 "cells": [
  {
   "cell_type": "code",
   "execution_count": 1,
   "metadata": {},
   "outputs": [],
   "source": [
    "import sys, os\n",
    "sys.path.insert(0, os.path.abspath(\"../../\"))\n",
    "from aklab.controlunit import plot_raspi_batch,extract_timestamp, Raspi"
   ]
  },
  {
   "cell_type": "code",
   "execution_count": 2,
   "metadata": {},
   "outputs": [],
   "source": [
    "bpth = 'c:\\\\Users\\\\queezz\\\\Dropbox\\\\Experiments\\\\2019-Ito-kun\\\\data\\\\ControlUnit\\\\'\n",
    "ls = os.listdir(bpth)\n",
    "ts = sorted(list(set([extract_timestamp(i) for i in ls])),reverse=True)"
   ]
  },
  {
   "cell_type": "code",
   "execution_count": 3,
   "metadata": {},
   "outputs": [
    {
     "data": {
      "text/plain": [
       "'20200306_224903'"
      ]
     },
     "execution_count": 3,
     "metadata": {},
     "output_type": "execute_result"
    }
   ],
   "source": [
    "ts[-100]"
   ]
  },
  {
   "cell_type": "code",
   "execution_count": 4,
   "metadata": {},
   "outputs": [
    {
     "data": {
      "application/vnd.jupyter.widget-view+json": {
       "model_id": "7f917f063fe44c09a857b3dd01425a7f",
       "version_major": 2,
       "version_minor": 0
      },
      "text/plain": [
       "  0%|          | 0/329 [00:00<?, ?it/s]"
      ]
     },
     "metadata": {},
     "output_type": "display_data"
    },
    {
     "name": "stderr",
     "output_type": "stream",
     "text": [
      "c:\\Users\\queezz\\Dropbox\\workspace\\aklab\\aklab\\controlunit.py:31: UserWarning: Discarding nonzero nanoseconds in conversion\n",
      "  self.load_data()\n",
      "c:\\Users\\queezz\\Dropbox\\workspace\\aklab\\aklab\\controlunit.py:31: UserWarning: Discarding nonzero nanoseconds in conversion\n",
      "  self.load_data()\n",
      "c:\\Users\\queezz\\Dropbox\\workspace\\aklab\\aklab\\controlunit.py:31: UserWarning: Discarding nonzero nanoseconds in conversion\n",
      "  self.load_data()\n",
      "c:\\Users\\queezz\\Dropbox\\workspace\\aklab\\aklab\\controlunit.py:31: UserWarning: Discarding nonzero nanoseconds in conversion\n",
      "  self.load_data()\n",
      "c:\\Users\\queezz\\Dropbox\\workspace\\aklab\\aklab\\controlunit.py:31: UserWarning: Discarding nonzero nanoseconds in conversion\n",
      "  self.load_data()\n",
      "c:\\Users\\queezz\\Dropbox\\workspace\\aklab\\aklab\\controlunit.py:31: UserWarning: Discarding nonzero nanoseconds in conversion\n",
      "  self.load_data()\n",
      "c:\\Users\\queezz\\Dropbox\\workspace\\aklab\\aklab\\controlunit.py:31: UserWarning: Discarding nonzero nanoseconds in conversion\n",
      "  self.load_data()\n",
      "c:\\Users\\queezz\\Dropbox\\workspace\\aklab\\aklab\\controlunit.py:31: UserWarning: Discarding nonzero nanoseconds in conversion\n",
      "  self.load_data()\n",
      "c:\\Users\\queezz\\Dropbox\\workspace\\aklab\\aklab\\controlunit.py:31: UserWarning: Discarding nonzero nanoseconds in conversion\n",
      "  self.load_data()\n"
     ]
    },
    {
     "name": "stdout",
     "output_type": "stream",
     "text": [
      "Skipping 20201007_123213\n",
      "No columns to parse from file\n"
     ]
    },
    {
     "name": "stderr",
     "output_type": "stream",
     "text": [
      "c:\\Users\\queezz\\Dropbox\\workspace\\aklab\\aklab\\controlunit.py:31: UserWarning: Discarding nonzero nanoseconds in conversion\n",
      "  self.load_data()\n"
     ]
    },
    {
     "name": "stdout",
     "output_type": "stream",
     "text": [
      "Skipping 20200805_182026\n",
      "single positional indexer is out-of-bounds\n"
     ]
    },
    {
     "name": "stderr",
     "output_type": "stream",
     "text": [
      "c:\\Users\\queezz\\Dropbox\\workspace\\aklab\\aklab\\controlunit.py:31: UserWarning: Discarding nonzero nanoseconds in conversion\n",
      "  self.load_data()\n",
      "c:\\Users\\queezz\\Dropbox\\workspace\\aklab\\aklab\\controlunit.py:31: UserWarning: Discarding nonzero nanoseconds in conversion\n",
      "  self.load_data()\n",
      "c:\\Users\\queezz\\Dropbox\\workspace\\aklab\\aklab\\controlunit.py:31: UserWarning: Discarding nonzero nanoseconds in conversion\n",
      "  self.load_data()\n"
     ]
    }
   ],
   "source": [
    "#plot_raspi_batch(ts[:10 ],bpth=bpth,lims=[[5e-8, 1e-2], [-0.2, 3.5], [0, 450]])"
   ]
  }
 ],
 "metadata": {
  "kernelspec": {
   "display_name": "Python 3.9.5 ('base')",
   "language": "python",
   "name": "python3"
  },
  "language_info": {
   "codemirror_mode": {
    "name": "ipython",
    "version": 3
   },
   "file_extension": ".py",
   "mimetype": "text/x-python",
   "name": "python",
   "nbconvert_exporter": "python",
   "pygments_lexer": "ipython3",
   "version": "3.9.5"
  },
  "orig_nbformat": 4,
  "vscode": {
   "interpreter": {
    "hash": "91b55dc8dc5e894ef821af3234480c4f7342edd9774c8a815382590549856cb1"
   }
  }
 },
 "nbformat": 4,
 "nbformat_minor": 2
}
