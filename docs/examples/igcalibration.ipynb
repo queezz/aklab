{
 "cells": [
  {
   "cell_type": "code",
   "execution_count": 5,
   "metadata": {},
   "outputs": [],
   "source": [
    "from aklab.controlunit import Raspi"
   ]
  },
  {
   "cell_type": "code",
   "execution_count": 7,
   "metadata": {},
   "outputs": [],
   "source": [
    "raspi = Raspi(bpath='../../data',timestamp='20210219_124135')"
   ]
  },
  {
   "cell_type": "code",
   "execution_count": 14,
   "metadata": {},
   "outputs": [
    {
     "data": {
      "text/plain": [
       "<AxesSubplot:>"
      ]
     },
     "execution_count": 14,
     "metadata": {},
     "output_type": "execute_result"
    },
    {
     "data": {
      "image/png": "[encoded data removed]",
      "text/plain": [
       "<Figure size 432x288 with 1 Axes>"
      ]
     },
     "metadata": {
      "needs_background": "light"
     },
     "output_type": "display_data"
    }
   ],
   "source": [
    "raspi.adc.Ip.plot()"
   ]
  },
  {
   "cell_type": "code",
   "execution_count": 15,
   "metadata": {},
   "outputs": [],
   "source": [
    "class Convert():\n",
    "    \"\"\"\n",
    "    Contains convertion modules for sensors in use.\n",
    "    \"\"\"\n",
    "    def __init__():\n",
    "        pass\n",
    "\n",
    "    def pfeiffer_sg(self,signal):\n",
    "        \"\"\"\n",
    "        Calculate pressure in Tors (Pa) from Pfeiffer cold cathode Single Gauge. \n",
    "        It seems that coefficients are slightly off, tune them for better results.\n",
    "\n",
    "        .. _SO: https://www.idealvac.com/files/brochures/TPG-361a.pdf\n",
    "        .. _SO: https://www.idealvac.com/files/brochures/Pfeiffer_Single_Gauge_TPG261.pdf\n",
    "        .. _SO: https://youtu.be/BiyPY4dFH_s\n",
    "        .. _SO: https://www.idealvac.com/files/brochures/Pfeiffer_PKR_251_Pirani_ColdCathode.pdf\n",
    "\n",
    "        Parameters\n",
    "        ----------\n",
    "        signal: np.array\n",
    "            Gauge analogue signal.\n",
    "        \"\"\"\n",
    "        return 10 ** (1.667 * signal - 11.46)\n",
    "\n",
    "    def ionization_gauge(self,signal,exponent,log=False):\n",
    "        \"\"\"\n",
    "        Calculate pressure in Tors (Pa) from \n",
    "        Bayard-alpert ionization vacuum gauge.\n",
    "        A controller usually has two modes: linear and log outputs.\n",
    "        In linear mode older converters do not ouotput exponent power, \n",
    "        so it must be provided.\n",
    "        \"\"\"\n",
    "        if not log:\n",
    "            return signal * 10 ** exponent\n",
    "        \n",
    "        # Look up formula for log-scale in the manual.\n",
    "\n",
    "    def hall_sensor(self,signal):\n",
    "        \"\"\"\n",
    "        Convert Hall-effect current sensor signal to Amps.\n",
    "        An Arduion or Raspberry Pi sensor based on ACS712\n",
    "        or a similar chip. \n",
    "\n",
    "        Parameters\n",
    "        ----------\n",
    "        signal: np.array\n",
    "            analogue hall-sensor signal\n",
    "        \"\"\"\n",
    "        return 5 / 1 * (signal - 2.52)\n",
    "\n"
   ]
  },
  {
   "cell_type": "code",
   "execution_count": null,
   "metadata": {},
   "outputs": [],
   "source": [
    "# 11.46 convert Pfeiffer signal to pressure\n",
    "self.pu = 10 ** (1.667 * self.adc[\"P2\"] - 11.46)\n",
    "# convert linear IG signal to pressure\n",
    "self.pd = self.adc[\"P1\"] * 10 ** self.adc[\"IGscale\"]\n",
    "# plasma current from hall sensor\n",
    "def iconv(v):\n",
    "    return 5 / 1 * (v - 2.52)\n",
    "\n",
    "self.ip = iconv(self.adc[\"Ip\"])\n",
    "self.t = self.adc[\"date\"]"
   ]
  }
 ],
 "metadata": {
  "kernelspec": {
   "display_name": "Python 3.9.5 ('base')",
   "language": "python",
   "name": "python3"
  },
  "language_info": {
   "codemirror_mode": {
    "name": "ipython",
    "version": 3
   },
   "file_extension": ".py",
   "mimetype": "text/x-python",
   "name": "python",
   "nbconvert_exporter": "python",
   "pygments_lexer": "ipython3",
   "version": "3.9.5"
  },
  "orig_nbformat": 4,
  "vscode": {
   "interpreter": {
    "hash": "91b55dc8dc5e894ef821af3234480c4f7342edd9774c8a815382590549856cb1"
   }
  }
 },
 "nbformat": 4,
 "nbformat_minor": 2
}
